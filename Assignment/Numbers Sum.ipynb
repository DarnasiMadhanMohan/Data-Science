{
 "cells": [
  {
   "cell_type": "code",
   "execution_count": 5,
   "metadata": {},
   "outputs": [
    {
     "name": "stdout",
     "output_type": "stream",
     "text": [
      "(0, 2, 4)\n"
     ]
    }
   ],
   "source": [
    "# Example usage:\n",
    "arr = [-1, 0, 1, 2, -1, 4]\n",
    "x = 6\n",
    "\n",
    "\n",
    "def find_triplet(arr, x):\n",
    "    arr.sort()  # Step 1: Sort the array\n",
    "    n = len(arr)\n",
    "    \n",
    "    for i in range(n - 2):  # Step 2: Iterate through the array\n",
    "        left = i + 1\n",
    "        right = n - 1\n",
    "        \n",
    "        \n",
    "        while left < right:  # Step 3: Use two pointers to find the other two elements\n",
    "            current_sum = arr[i] + arr[left] + arr[right]\n",
    "            \n",
    "            if current_sum == x:  # Step 4: Check if the triplet sum matches x\n",
    "                return (arr[i], arr[left], arr[right])\n",
    "            elif current_sum < x:  # Move the left pointer to the right\n",
    "                left += 1\n",
    "            else:  # Move the right pointer to the left\n",
    "                right -= 1\n",
    "                \n",
    "    return None  # If no such triplet is found\n",
    "    \n",
    "\n",
    "\n",
    "result = find_triplet(arr, x)\n",
    "print(result)  # Output: (1, 3, 5) or any other valid triplet\n"
   ]
  }
 ],
 "metadata": {
  "kernelspec": {
   "display_name": "Python 3",
   "language": "python",
   "name": "python3"
  },
  "language_info": {
   "codemirror_mode": {
    "name": "ipython",
    "version": 3
   },
   "file_extension": ".py",
   "mimetype": "text/x-python",
   "name": "python",
   "nbconvert_exporter": "python",
   "pygments_lexer": "ipython3",
   "version": "3.11.5"
  }
 },
 "nbformat": 4,
 "nbformat_minor": 2
}
