{
 "cells": [
  {
   "cell_type": "code",
   "execution_count": 1,
   "metadata": {},
   "outputs": [
    {
     "name": "stdout",
     "output_type": "stream",
     "text": [
      "5\n"
     ]
    }
   ],
   "source": [
    "import random\n",
    "\n",
    "# Example usage:\n",
    "nums = [3, 2, 1, 5, 6, 4]\n",
    "k = 2\n",
    "\n",
    "\n",
    "def partition(nums, left, right):\n",
    "    pivot = nums[right]\n",
    "    i = left\n",
    "    for j in range(left, right):\n",
    "        if nums[j] < pivot:\n",
    "            nums[i], nums[j] = nums[j], nums[i]\n",
    "            i += 1\n",
    "    nums[i], nums[right] = nums[right], nums[i]\n",
    "    return i\n",
    "\n",
    "def quickselect(nums, left, right, k_smallest):\n",
    "    if left == right:\n",
    "        return nums[left]\n",
    "    \n",
    "    pivot_index = partition(nums, left, right)\n",
    "    \n",
    "    if k_smallest == pivot_index:\n",
    "        return nums[k_smallest]\n",
    "    elif k_smallest < pivot_index:\n",
    "        return quickselect(nums, left, pivot_index - 1, k_smallest)\n",
    "    else:\n",
    "        return quickselect(nums, pivot_index + 1, right, k_smallest)\n",
    "\n",
    "def find_kth_largest(nums, k):\n",
    "    size = len(nums)\n",
    "    return quickselect(nums, 0, size - 1, size - k)\n",
    "\n",
    "\n",
    "result = find_kth_largest(nums, k)\n",
    "print(result)  # Output: 5\n"
   ]
  },
  {
   "cell_type": "code",
   "execution_count": 1,
   "metadata": {},
   "outputs": [
    {
     "name": "stdout",
     "output_type": "stream",
     "text": [
      "5\n"
     ]
    }
   ],
   "source": [
    "# Min-Heap\n",
    "\n",
    "import heapq\n",
    "\n",
    "# Example usage:\n",
    "nums = [3, 2, 1, 5, 6, 4]\n",
    "k = 2\n",
    "\n",
    "def find_kth_largest(nums, k):\n",
    "    # Create a min-heap with the first k elements\n",
    "    min_heap = nums[:k]\n",
    "    heapq.heapify(min_heap)\n",
    "    \n",
    "    # Iterate through the rest of the array\n",
    "    for num in nums[k:]:\n",
    "        # If the current number is larger than the smallest number in the heap\n",
    "        if num > min_heap[0]:\n",
    "            # Replace the smallest number with the current number\n",
    "            heapq.heappop(min_heap)\n",
    "            heapq.heappush(min_heap, num)\n",
    "    \n",
    "    # The root of the heap is the k-th largest element\n",
    "    return min_heap[0]\n",
    "\n",
    "\n",
    "result = find_kth_largest(nums, k)\n",
    "print(result)  # Output: 5\n"
   ]
  }
 ],
 "metadata": {
  "kernelspec": {
   "display_name": "Python 3",
   "language": "python",
   "name": "python3"
  },
  "language_info": {
   "codemirror_mode": {
    "name": "ipython",
    "version": 3
   },
   "file_extension": ".py",
   "mimetype": "text/x-python",
   "name": "python",
   "nbconvert_exporter": "python",
   "pygments_lexer": "ipython3",
   "version": "3.11.5"
  }
 },
 "nbformat": 4,
 "nbformat_minor": 2
}
