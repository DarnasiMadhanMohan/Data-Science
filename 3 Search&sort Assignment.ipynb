{
 "cells": [
  {
   "cell_type": "code",
   "execution_count": 10,
   "metadata": {},
   "outputs": [
    {
     "name": "stdout",
     "output_type": "stream",
     "text": [
      "[0, 1, 2, 3, 4, 5, 7, 8, 9, 17, 21, 25, 26, 33, 36, 38, 44, 48, 51, 57, 60, 99]\n"
     ]
    }
   ],
   "source": [
    "# Given two sorted arrays write a python program to merge the two arrays together and return a single sorted array\n",
    "\n",
    "\n",
    "\n",
    "# Expected output: [0,1,2,3,4,5,7,8,9,17,21,25,26,33,38,44,57]\n",
    "# Test the function\n",
    "def merge_arrays(arr1, arr2):\n",
    "    merged_array = []\n",
    "    i, j = 0, 0\n",
    "    \n",
    "    # Traverse both arrays and merge them\n",
    "    while i < len(arr1) and j < len(arr2):\n",
    "        if arr1[i] <= arr2[j]:\n",
    "            merged_array.append(arr1[i])\n",
    "            i += 1\n",
    "        else:\n",
    "            merged_array.append(arr2[j])\n",
    "            j += 1\n",
    "    \n",
    "    # Append remaining elements from arr1 (if any)\n",
    "    merged_array.extend(arr1[i:])\n",
    "    \n",
    "    # Append remaining elements from arr2 (if any)\n",
    "    merged_array.extend(arr2[j:])\n",
    "    \n",
    "    return merged_arrayl\n",
    "\n",
    "# Test the function\n",
    "arr1 = [0, 1, 2, 3, 5, 9, 17, 38, 57, 60]\n",
    "arr2 = [4, 7, 8, 21, 25, 26, 33, 36, 44, 48, 51, 99]\n",
    "print(merge_arrays(arr1, arr2))\n",
    "\n",
    "\n"
   ]
  },
  {
   "cell_type": "markdown",
   "metadata": {},
   "source": [
    "Given an array nums of integers, return how many of them contain an even number of digits.\n",
    "\n",
    " \n",
    "\n",
    "Example 1:\n",
    "\n",
    "Input: nums = [12,345,2,6,7896] <br>\n",
    "Output: 2 <br>\n",
    "Explanation: <br>\n",
    "12 contains 2 digits (even number of digits). <br>\n",
    "345 contains 3 digits (odd number of digits). <br>\n",
    "2 contains 1 digit (odd number of digits). <br>\n",
    "6 contains 1 digit (odd number of digits). <br>\n",
    "7896 contains 4 digits (even number of digits). <br>\n",
    "Therefore only 12 and 7896 contain an even number of digits."
   ]
  }
 ],
 "metadata": {
  "kernelspec": {
   "display_name": "env_tf",
   "language": "python",
   "name": "python3"
  },
  "language_info": {
   "codemirror_mode": {
    "name": "ipython",
    "version": 3
   },
   "file_extension": ".py",
   "mimetype": "text/x-python",
   "name": "python",
   "nbconvert_exporter": "python",
   "pygments_lexer": "ipython3",
   "version": "3.11.5"
  }
 },
 "nbformat": 4,
 "nbformat_minor": 2
}
