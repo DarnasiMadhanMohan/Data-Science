{
 "cells": [
  {
   "cell_type": "markdown",
   "metadata": {},
   "source": [
    "# Question 1:\n",
    "\n",
    "ABC Bank has +1,000 employees. The Human Resources department wants to know the chain of command for each employee.\n",
    "\n",
    "\n",
    "1. Produce the code which will take an employee ID as input and produce all their managers up the hierarchy, with the identifier of each manager. For example, if the organizational chart looks like:<br>\n",
    "<img src=\"Images/q2.png\" width=\"450\" height=\"300\">\n",
    "\n",
    "\n",
    "Then for input employee ID 6, the output would be employee ID 3, 1 <br>\n",
    "<img src=\"Images/q1.png\" width=\"400\" height=\"300\">\n",
    "\n",
    "\n",
    "\n",
    "2. Produce the code which will take an employee ID as input and produce all employees underneath their manager, including the manager.\n",
    "For the sample above:\n",
    "    - 6 would result in 3, 5, 6\n",
    "    - 3 would result in 1, 2, 3, 4, 5, 6\n",
    "    - 4 would result in 2, 4  \n"
   ]
  },
  {
   "cell_type": "code",
   "execution_count": 63,
   "metadata": {},
   "outputs": [
    {
     "name": "stdout",
     "output_type": "stream",
     "text": [
      "\n",
      "    __1__\n",
      "   /     \\\n",
      "  2       3\n",
      " / \\     /\n",
      "4   5   6\n",
      "\n",
      "Chain of command for employee ID 6 : [1, 3]\n"
     ]
    }
   ],
   "source": [
    "from binarytree import Node\n",
    "\n",
    "# Create the binary tree as per the given hierarchy\n",
    "root = Node(1)\n",
    "root.left = Node(2)\n",
    "root.right = Node(3)\n",
    "root.left.left = Node(4)\n",
    "root.left.right = Node(5)\n",
    "root.right.left = Node(6)\n",
    "\n",
    "# Function to find the chain of command\n",
    "def find_chain_of_command(root, employee_id, chain = None):\n",
    "    if chain is None:\n",
    "        chain = []\n",
    "        \n",
    "    if root is None:\n",
    "            return None\n",
    "        \n",
    "    if root.val == employee_id:\n",
    "            return chain\n",
    "    \n",
    "    #Check left sub tree\n",
    "    \n",
    "    left_result = find_chain_of_command(root.left, employee_id, chain + [root.value])\n",
    "    if left_result is not None:\n",
    "        return left_result\n",
    "    \n",
    "    # Check right sub tree\n",
    "    right_result = find_chain_of_command(root.right, employee_id, chain + [root.value])\n",
    "    if right_result is not None:\n",
    "        return right_result\n",
    "    \n",
    "    return None\n",
    "\n",
    "#Visual \n",
    "print(root)\n",
    "\n",
    "#Find and print chain of employee\n",
    "\n",
    "employee_id = 6\n",
    "chain_of_command = find_chain_of_command(root, employee_id)\n",
    "print(f\"Chain of command for employee ID {employee_id} : {chain_of_command}\")"
   ]
  },
  {
   "cell_type": "code",
   "execution_count": 56,
   "metadata": {},
   "outputs": [
    {
     "data": {
      "image/png": "[encoded data removed]",
      "text/plain": [
       "<Figure size 640x480 with 1 Axes>"
      ]
     },
     "metadata": {},
     "output_type": "display_data"
    },
    {
     "name": "stdout",
     "output_type": "stream",
     "text": [
      "Chain of command for employee ID 6: [3, 1]\n"
     ]
    }
   ],
   "source": [
    "import networkx as nx\n",
    "import matplotlib.pyplot as plt\n",
    "from binarytree import Node\n",
    "\n",
    "# Create the graph\n",
    "G = nx.DiGraph()\n",
    "\n",
    "# Add nodes and edges according to the hierarchy\n",
    "root = Node(1)\n",
    "root.left = Node(2)\n",
    "root.right = Node(3)\n",
    "root.left.left = Node(4)\n",
    "root.left.right = Node(5)\n",
    "root.right.left = Node(6)\n",
    "edges = [\n",
    "    (1, 2), (1, 3),\n",
    "    (2, 4), (2, 5),\n",
    "    (3, 6)\n",
    "]\n",
    "\n",
    "G.add_edges_from(edges)\n",
    "\n",
    "# Function to find the chain of command using DFS\n",
    "def find_chain_of_command(G, employee_id):\n",
    "    chain = []\n",
    "    def dfs(node, target):\n",
    "        if node == target:\n",
    "            return True\n",
    "        for neighbor in G.successors(node):\n",
    "            if dfs(neighbor, target):\n",
    "                chain.append(node)\n",
    "                return True\n",
    "        return False\n",
    "    dfs(1, employee_id)  # assuming 1 is the root\n",
    "    return chain\n",
    "\n",
    "# Visualize the graph\n",
    "pos = nx.spring_layout(G)\n",
    "labels = {i: str(i) for i in G.nodes}\n",
    "nx.draw(G, pos, labels=labels, with_labels=True, node_size=500, node_color='skyblue', font_size=10, font_weight='bold', arrowsize=20)\n",
    "plt.show()\n",
    "\n",
    "# Find and print the chain of command for employee ID 6\n",
    "employee_id = 6\n",
    "chain_of_command = find_chain_of_command(G, employee_id)\n",
    "print(f\"Chain of command for employee ID {employee_id}: {chain_of_command}\")\n"
   ]
  }
 ],
 "metadata": {
  "kernelspec": {
   "display_name": "Python 3",
   "language": "python",
   "name": "python3"
  },
  "language_info": {
   "codemirror_mode": {
    "name": "ipython",
    "version": 3
   },
   "file_extension": ".py",
   "mimetype": "text/x-python",
   "name": "python",
   "nbconvert_exporter": "python",
   "pygments_lexer": "ipython3",
   "version": "3.11.5"
  }
 },
 "nbformat": 4,
 "nbformat_minor": 2
}
