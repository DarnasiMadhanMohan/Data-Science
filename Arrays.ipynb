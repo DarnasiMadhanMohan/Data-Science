{
 "cells": [
  {
   "cell_type": "code",
   "execution_count": null,
   "metadata": {},
   "outputs": [],
   "source": [
    "class Solution:\n",
    "    def list(self,nums):\n",
    "        def findMedianSortedArrays(self, nums1: list[int], nums2: list[int]) -> float:\n",
    "            nums1 = nums1 + nums2\n",
    "            nums.sort()\n",
    "        \n",
    "            if len(nums1)%2 == 1:\n",
    "                return nums1[int(len(nums1)/2)]\n",
    "            else:\n",
    "                return (nums1[int(len(nums1)/2) - 1] + nums1[int(len(nums1)/2)])/2"
   ]
  }
 ],
 "metadata": {
  "kernelspec": {
   "display_name": "Python 3",
   "language": "python",
   "name": "python3"
  },
  "language_info": {
   "name": "python",
   "version": "3.11.5"
  }
 },
 "nbformat": 4,
 "nbformat_minor": 2
}
