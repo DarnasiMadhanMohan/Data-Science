{
 "cells": [
  {
   "cell_type": "code",
   "execution_count": 1,
   "metadata": {},
   "outputs": [],
   "source": [
    "# Step 1: Importing the 're' module\n",
    "# Regular expressions in Python are supported by the 're' module.\n",
    "import re"
   ]
  },
  {
   "cell_type": "code",
   "execution_count": 3,
   "metadata": {},
   "outputs": [
    {
     "name": "stdout",
     "output_type": "stream",
     "text": [
      "Pattern 'Python' found at position 24 to 30\n"
     ]
    }
   ],
   "source": [
    "# Step 2: Basic pattern matching\n",
    "# We'll start with a simple example of finding a word in a string using re.search().\n",
    "# re.search() looks for the first location where the pattern matches and returns a match object.\n",
    "\n",
    "text = \"Welcome to the world of Python programming!\"\n",
    "pattern = \"Python\"\n",
    "\n",
    "match = re.search(pattern, text)\n",
    "if match:\n",
    "    print(f\"Pattern '{pattern}' found at position {match.start()} to {match.end()}\")\n",
    "else:\n",
    "    print(f\"Pattern '{pattern}' not found.\")\n",
    "\n",
    "# Explanation:\n",
    "# 're.search()' checks if the pattern exists in the text.\n",
    "# 'match.start()' and 'match.end()' give the position where the match occurs."
   ]
  },
  {
   "cell_type": "code",
   "execution_count": 4,
   "metadata": {},
   "outputs": [
    {
     "name": "stdout",
     "output_type": "stream",
     "text": [
      "Matches for pattern 'c.t': ['cat', 'cot', 'cut']\n"
     ]
    }
   ],
   "source": [
    "# Step 3: Using special characters\n",
    "# Regular expressions support special characters like '.', '*', '+', etc.\n",
    "# Let's use '.' to match any single character.\n",
    "\n",
    "text = \"cat, cot, cut\"\n",
    "pattern = \"c.t\"  # This pattern matches any string that starts with 'c' and ends with 't' with any character in between.\n",
    "\n",
    "matches = re.findall(pattern, text)\n",
    "print(f\"Matches for pattern '{pattern}': {matches}\")\n",
    "\n",
    "# Explanation:\n",
    "# 're.findall()' returns all matches of the pattern in the text."
   ]
  },
  {
   "cell_type": "code",
   "execution_count": 5,
   "metadata": {},
   "outputs": [
    {
     "name": "stdout",
     "output_type": "stream",
     "text": [
      "Matches for pattern 'b[aeiou]t': ['bat', 'bet', 'bit', 'bot', 'but']\n"
     ]
    }
   ],
   "source": [
    "# Step 4: Working with character sets and ranges\n",
    "# You can use square brackets [] to specify a set of characters.\n",
    "# For example, '[aeiou]' will match any vowel.\n",
    "\n",
    "text = \"bat, bet, bit, bot, but\"\n",
    "pattern = \"b[aeiou]t\"  # Matches words that start with 'b', end with 't', and have a vowel in between.\n",
    "\n",
    "matches = re.findall(pattern, text)\n",
    "print(f\"Matches for pattern '{pattern}': {matches}\")"
   ]
  },
  {
   "cell_type": "code",
   "execution_count": 6,
   "metadata": {},
   "outputs": [
    {
     "name": "stdout",
     "output_type": "stream",
     "text": [
      "Pattern 'go*al' found: gooooal\n"
     ]
    }
   ],
   "source": [
    "# Step 5: Quantifiers\n",
    "# Quantifiers allow you to specify how many times a character or a group should repeat.\n",
    "# '*' matches 0 or more times, '+' matches 1 or more times, and '?' matches 0 or 1 time.\n",
    "\n",
    "text = \"gooooal!\"\n",
    "pattern = \"go*al\"  # Matches 'g', followed by any number of 'o's, and ends with 'al'.\n",
    "\n",
    "match = re.search(pattern, text)\n",
    "if match:\n",
    "    print(f\"Pattern '{pattern}' found: {match.group()}\")\n",
    "\n",
    "# Explanation:\n",
    "# 'go*al' will match 'g', followed by zero or more 'o's, and then 'al'."
   ]
  },
  {
   "cell_type": "code",
   "execution_count": 7,
   "metadata": {},
   "outputs": [
    {
     "name": "stdout",
     "output_type": "stream",
     "text": [
      "Phone number found: 123-456-7890\n",
      "Area code: 123\n",
      "Main number: 456-7890\n"
     ]
    }
   ],
   "source": [
    "# Step 6: Grouping and capturing\n",
    "# You can group patterns using parentheses ().\n",
    "# This is useful when you want to extract specific parts of a match.\n",
    "\n",
    "text = \"My phone number is 123-456-7890.\"\n",
    "pattern = r\"(\\d{3})-(\\d{3})-(\\d{4})\"  # This pattern captures phone numbers in the format XXX-XXX-XXXX.\n",
    "\n",
    "match = re.search(pattern, text)\n",
    "if match:\n",
    "    print(f\"Phone number found: {match.group()}\")\n",
    "    print(f\"Area code: {match.group(1)}\")\n",
    "    print(f\"Main number: {match.group(2)}-{match.group(3)}\")\n",
    "\n",
    "# Explanation:\n",
    "# '(\\d{3})' captures exactly three digits. '\\d' matches any digit, and '{3}' specifies that we want exactly three occurrences.\n",
    "# The full phone number is captured by match.group(), and individual groups are accessed using match.group(1), match.group(2), etc."
   ]
  },
  {
   "cell_type": "code",
   "execution_count": 8,
   "metadata": {},
   "outputs": [
    {
     "name": "stdout",
     "output_type": "stream",
     "text": [
      "Price found: $5.99\n"
     ]
    }
   ],
   "source": [
    "# Step 7: Escaping special characters\n",
    "# If you want to match special characters like '.', '*', or '+', you need to escape them using a backslash '\\'.\n",
    "\n",
    "text = \"The price is $5.99.\"\n",
    "pattern = r\"\\$\\d+\\.\\d{2}\"  # This pattern matches a dollar sign followed by digits, a dot, and two digits.\n",
    "\n",
    "match = re.search(pattern, text)\n",
    "if match:\n",
    "    print(f\"Price found: {match.group()}\")\n",
    "\n",
    "# Explanation:\n",
    "# '\\$' matches the dollar sign, '\\d+' matches one or more digits, and '\\.\\d{2}' matches a dot followed by exactly two digits."
   ]
  },
  {
   "cell_type": "code",
   "execution_count": 9,
   "metadata": {},
   "outputs": [
    {
     "name": "stdout",
     "output_type": "stream",
     "text": [
      "Case-insensitive matches for 'python': ['Python', 'PYTHON']\n"
     ]
    }
   ],
   "source": [
    "# Step 8: Using flags for case-insensitive matching\n",
    "# Flags allow you to modify the behavior of the regex. For example, re.IGNORECASE makes the pattern case-insensitive.\n",
    "\n",
    "text = \"Python is fun. PYTHON is powerful.\"\n",
    "pattern = \"python\"\n",
    "\n",
    "matches = re.findall(pattern, text, re.IGNORECASE)  # re.IGNORECASE makes the search case-insensitive.\n",
    "print(f\"Case-insensitive matches for '{pattern}': {matches}\")"
   ]
  },
  {
   "cell_type": "code",
   "execution_count": 10,
   "metadata": {},
   "outputs": [
    {
     "name": "stdout",
     "output_type": "stream",
     "text": [
      "Updated text: The sky is green.\n"
     ]
    }
   ],
   "source": [
    "# Step 9: Substituting text with re.sub()\n",
    "# You can replace parts of a string that match a pattern using re.sub().\n",
    "\n",
    "text = \"The sky is blue.\"\n",
    "pattern = \"blue\"\n",
    "replacement = \"green\"\n",
    "\n",
    "new_text = re.sub(pattern, replacement, text)\n",
    "print(f\"Updated text: {new_text}\")\n",
    "\n",
    "# Explanation:\n",
    "# 're.sub()' replaces all occurrences of the pattern in the text with the specified replacement."
   ]
  },
  {
   "cell_type": "code",
   "execution_count": 11,
   "metadata": {},
   "outputs": [
    {
     "name": "stdout",
     "output_type": "stream",
     "text": [
      "Fruits list: ['apple', ' orange', ' banana', ' grape']\n"
     ]
    }
   ],
   "source": [
    "# Step 10: Splitting a string with re.split()\n",
    "# re.split() allows you to split a string based on a pattern, similar to str.split() but with more flexibility.\n",
    "\n",
    "text = \"apple, orange; banana: grape\"\n",
    "pattern = r\"[,;:]\"\n",
    "\n",
    "fruits = re.split(pattern, text)\n",
    "print(f\"Fruits list: {fruits}\")\n",
    "\n",
    "# Explanation:\n",
    "# 're.split()' splits the string at each comma, semicolon, or colon."
   ]
  },
  {
   "cell_type": "code",
   "execution_count": null,
   "metadata": {},
   "outputs": [],
   "source": []
  }
 ],
 "metadata": {
  "kernelspec": {
   "display_name": "env_tf",
   "language": "python",
   "name": "python3"
  },
  "language_info": {
   "codemirror_mode": {
    "name": "ipython",
    "version": 3
   },
   "file_extension": ".py",
   "mimetype": "text/x-python",
   "name": "python",
   "nbconvert_exporter": "python",
   "pygments_lexer": "ipython3",
   "version": "3.9.9"
  }
 },
 "nbformat": 4,
 "nbformat_minor": 2
}
