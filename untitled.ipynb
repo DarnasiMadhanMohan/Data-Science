{
 "cells": [
  {
   "cell_type": "code",
   "execution_count": null,
   "metadata": {},
   "outputs": [],
   "source": [
    "# Convert data into a DataFrame\n",
    "data = pd.DataFrame(pd)\n",
    "\n",
    "# Filter out only numerical columns\n",
    "numerical_cols = data.select_dtypes(include=[np.number])\n",
    "\n",
    "# Calculate the first quartile (Q1) for each numerical column\n",
    "q1 = numerical_cols.quantile(0.25)\n",
    "\n",
    "# Calculate the third quartile (Q3) for each numerical column\n",
    "q3 = numerical_cols.quantile(0.75)\n",
    "\n",
    "# Calculate the interquartile range (IQR) for each numerical column\n",
    "iqr = q3 - q1\n",
    "\n",
    "print(\"First Quartile (Q1):\")\n",
    "print(q1)\n",
    "print(\"\\nThird Quartile (Q3):\")"
   ]
  },
  {
   "cell_type": "code",
   "execution_count": 2,
   "metadata": {},
   "outputs": [
    {
     "ename": "NameError",
     "evalue": "name 'df' is not defined",
     "output_type": "error",
     "traceback": [
      "\u001b[1;31m---------------------------------------------------------------------------\u001b[0m",
      "\u001b[1;31mNameError\u001b[0m                                 Traceback (most recent call last)",
      "Cell \u001b[1;32mIn[2], line 1\u001b[0m\n\u001b[1;32m----> 1\u001b[0m numerical_cols \u001b[38;5;241m=\u001b[39m \u001b[43mdf\u001b[49m\u001b[38;5;241m.\u001b[39mselect_dtypes(include\u001b[38;5;241m=\u001b[39m[np\u001b[38;5;241m.\u001b[39mnumber])\n\u001b[0;32m      3\u001b[0m \u001b[38;5;66;03m# Identify outliers for each numerical column\u001b[39;00m\n\u001b[0;32m      4\u001b[0m outliers \u001b[38;5;241m=\u001b[39m (numerical_cols \u001b[38;5;241m<\u001b[39m lower_bound) \u001b[38;5;241m|\u001b[39m (numerical_cols \u001b[38;5;241m>\u001b[39m upper_bound)\n",
      "\u001b[1;31mNameError\u001b[0m: name 'df' is not defined"
     ]
    }
   ],
   "source": [
    "import\n",
    "numerical_cols = data.select_dtypes(include=[np.number])\n",
    "\n",
    "# Identify outliers for each numerical column\n",
    "outliers = (numerical_cols < lower_bound) | (numerical_cols > upper_bound)\n",
    "\n",
    "# Count the number of outliers in each numerical column\n",
    "num_outliers = outliers.sum()\n",
    "\n",
    "print(\"Number of outliers in each numerical column:\")\n",
    "print(num_outliers)"
   ]
  }
 ],
 "metadata": {
  "kernelspec": {
   "display_name": "Python 3",
   "language": "python",
   "name": "python3"
  },
  "language_info": {
   "codemirror_mode": {
    "name": "ipython",
    "version": 3
   },
   "file_extension": ".py",
   "mimetype": "text/x-python",
   "name": "python",
   "nbconvert_exporter": "python",
   "pygments_lexer": "ipython3",
   "version": "3.11.5"
  }
 },
 "nbformat": 4,
 "nbformat_minor": 2
}
